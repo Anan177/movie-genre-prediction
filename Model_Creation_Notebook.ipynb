{
 "cells": [
  {
   "cell_type": "markdown",
   "metadata": {},
   "source": [
    "# Proyek Pertama : Membuat Model NLP dengan TensorFlow\n",
    "- Nama: Ananta Alfallah Tarigan\n",
    "- Email: anantar437471@gmail.com\n",
    "- Id Dicoding: ananta_alfallah"
   ]
  },
  {
   "cell_type": "code",
   "execution_count": 2,
   "metadata": {},
   "outputs": [
    {
     "name": "stdout",
     "output_type": "stream",
     "text": [
      "   ID                             TITLE     GENRE  \\\n",
      "0   1      Oscar et la dame rose (2009)     drama   \n",
      "1   2                      Cupid (1997)  thriller   \n",
      "2   3  Young, Wild and Wonderful (1980)     adult   \n",
      "3   4             The Secret Sin (1915)     drama   \n",
      "4   5            The Unrecovered (2007)     drama   \n",
      "\n",
      "                                             SUMMARY  \n",
      "0  Listening in to a conversation between his doc...  \n",
      "1  A brother and sister with a past incestuous re...  \n",
      "2  As the bus empties the students for their fiel...  \n",
      "3  To help their unemployed father make ends meet...  \n",
      "4  The film's title refers not only to the un-rec...  \n"
     ]
    }
   ],
   "source": [
    "import pandas as pd\n",
    "from tensorflow.keras.preprocessing.text import Tokenizer\n",
    "from tensorflow.keras.preprocessing.sequence import pad_sequences\n",
    "import string\n",
    "from nltk.corpus import stopwords\n",
    "from nltk.tokenize import word_tokenize\n",
    "\n",
    "separator = \" ::: \"\n",
    "column_names = ['ID', 'TITLE', 'GENRE', 'SUMMARY']\n",
    "df = pd.read_csv('data2.txt', sep=separator, names=column_names, engine='python')\n",
    "\n",
    "print(df.head())"
   ]
  },
  {
   "cell_type": "code",
   "execution_count": 3,
   "metadata": {},
   "outputs": [
    {
     "name": "stdout",
     "output_type": "stream",
     "text": [
      "<class 'pandas.core.frame.DataFrame'>\n",
      "RangeIndex: 54214 entries, 0 to 54213\n",
      "Data columns (total 4 columns):\n",
      " #   Column   Non-Null Count  Dtype \n",
      "---  ------   --------------  ----- \n",
      " 0   ID       54214 non-null  int64 \n",
      " 1   TITLE    54214 non-null  object\n",
      " 2   GENRE    54214 non-null  object\n",
      " 3   SUMMARY  54214 non-null  object\n",
      "dtypes: int64(1), object(3)\n",
      "memory usage: 1.7+ MB\n"
     ]
    }
   ],
   "source": [
    "df.info()"
   ]
  },
  {
   "cell_type": "code",
   "execution_count": 4,
   "metadata": {},
   "outputs": [],
   "source": [
    "df.drop_duplicates(inplace=True)\n",
    "df.dropna(inplace=True)"
   ]
  },
  {
   "cell_type": "code",
   "execution_count": 5,
   "metadata": {},
   "outputs": [
    {
     "data": {
      "text/plain": [
       "GENRE\n",
       "drama          13578\n",
       "documentary    13079\n",
       "comedy          7432\n",
       "short           5062\n",
       "horror          2204\n",
       "thriller        1591\n",
       "action          1313\n",
       "western         1032\n",
       "reality-tv       883\n",
       "family           776\n",
       "adventure        775\n",
       "music            719\n",
       "romance          671\n",
       "sci-fi           647\n",
       "adult            589\n",
       "crime            504\n",
       "animation        498\n",
       "sport            430\n",
       "talk-show        388\n",
       "fantasy          323\n",
       "mystery          319\n",
       "musical          277\n",
       "biography        265\n",
       "history          243\n",
       "game-show        194\n",
       "news             181\n",
       "war              132\n",
       "Name: SUMMARY, dtype: int64"
      ]
     },
     "execution_count": 5,
     "metadata": {},
     "output_type": "execute_result"
    }
   ],
   "source": [
    "df.groupby(by='GENRE').SUMMARY.nunique().sort_values(ascending=False)"
   ]
  },
  {
   "cell_type": "code",
   "execution_count": 6,
   "metadata": {},
   "outputs": [],
   "source": [
    "#Memilih 3 kelas\n",
    "kelas_genre = ['documentary','horror','action']\n",
    "df = df[df['GENRE'].isin(kelas_genre)] "
   ]
  },
  {
   "cell_type": "code",
   "execution_count": 7,
   "metadata": {},
   "outputs": [
    {
     "name": "stdout",
     "output_type": "stream",
     "text": [
      "GENRE\n",
      "documentary    1315\n",
      "action         1315\n",
      "horror         1315\n",
      "Name: count, dtype: int64\n"
     ]
    }
   ],
   "source": [
    "#Melakukan undersampling agar sampel jumlah sampel data sama untuk masing2 kelas\n",
    "\n",
    "documentary_data = df[df['GENRE'] == 'documentary']\n",
    "horror_data = df[df['GENRE'] == 'horror']\n",
    "action_data = df[df['GENRE'] == 'action']\n",
    "\n",
    "\n",
    "num_samples_action = len(action_data)\n",
    "\n",
    "undersampled_documentary= documentary_data.sample(n=num_samples_action, replace=False, random_state=1337)\n",
    "undersampled_horror = horror_data.sample(n=num_samples_action, replace=False, random_state=1337)\n",
    "\n",
    "\n",
    "df_undersampled = pd.concat([undersampled_horror, undersampled_documentary, action_data])\n",
    "\n",
    "df_undersampled = df_undersampled.sample(frac=1, random_state=1337).reset_index(drop=True)\n",
    "\n",
    "print(df_undersampled['GENRE'].value_counts()) #dataset yang digunakan berjumlah 3945 sampel"
   ]
  },
  {
   "cell_type": "code",
   "execution_count": 8,
   "metadata": {},
   "outputs": [],
   "source": [
    "df_undersampled.drop(columns=['ID', 'TITLE'], inplace=True)"
   ]
  },
  {
   "cell_type": "code",
   "execution_count": 9,
   "metadata": {},
   "outputs": [
    {
     "data": {
      "text/html": [
       "<div>\n",
       "<style scoped>\n",
       "    .dataframe tbody tr th:only-of-type {\n",
       "        vertical-align: middle;\n",
       "    }\n",
       "\n",
       "    .dataframe tbody tr th {\n",
       "        vertical-align: top;\n",
       "    }\n",
       "\n",
       "    .dataframe thead th {\n",
       "        text-align: right;\n",
       "    }\n",
       "</style>\n",
       "<table border=\"1\" class=\"dataframe\">\n",
       "  <thead>\n",
       "    <tr style=\"text-align: right;\">\n",
       "      <th></th>\n",
       "      <th>GENRE</th>\n",
       "      <th>SUMMARY</th>\n",
       "    </tr>\n",
       "  </thead>\n",
       "  <tbody>\n",
       "    <tr>\n",
       "      <th>0</th>\n",
       "      <td>documentary</td>\n",
       "      <td>Ancient stone structures have been discovered ...</td>\n",
       "    </tr>\n",
       "    <tr>\n",
       "      <th>1</th>\n",
       "      <td>action</td>\n",
       "      <td>Squad with new characters with Courtney 357 fa...</td>\n",
       "    </tr>\n",
       "    <tr>\n",
       "      <th>2</th>\n",
       "      <td>action</td>\n",
       "      <td>Mechanic Ashe Corven and his son Danny are bru...</td>\n",
       "    </tr>\n",
       "    <tr>\n",
       "      <th>3</th>\n",
       "      <td>action</td>\n",
       "      <td>It's been one year since the \"Overachievers\" s...</td>\n",
       "    </tr>\n",
       "    <tr>\n",
       "      <th>4</th>\n",
       "      <td>documentary</td>\n",
       "      <td>The Unplaceables is a feature length documenta...</td>\n",
       "    </tr>\n",
       "    <tr>\n",
       "      <th>...</th>\n",
       "      <td>...</td>\n",
       "      <td>...</td>\n",
       "    </tr>\n",
       "    <tr>\n",
       "      <th>3940</th>\n",
       "      <td>action</td>\n",
       "      <td>Sunil Shrivastava (Suniel Shetty), is the son ...</td>\n",
       "    </tr>\n",
       "    <tr>\n",
       "      <th>3941</th>\n",
       "      <td>horror</td>\n",
       "      <td>Each week on her local cable show \"The Seance ...</td>\n",
       "    </tr>\n",
       "    <tr>\n",
       "      <th>3942</th>\n",
       "      <td>horror</td>\n",
       "      <td>Two friends Johnny and Jack go out in the wood...</td>\n",
       "    </tr>\n",
       "    <tr>\n",
       "      <th>3943</th>\n",
       "      <td>horror</td>\n",
       "      <td>A group of unlikely bunk mates gather at a mut...</td>\n",
       "    </tr>\n",
       "    <tr>\n",
       "      <th>3944</th>\n",
       "      <td>action</td>\n",
       "      <td>In the wake of a shocking civilian massacre in...</td>\n",
       "    </tr>\n",
       "  </tbody>\n",
       "</table>\n",
       "<p>3945 rows × 2 columns</p>\n",
       "</div>"
      ],
      "text/plain": [
       "            GENRE                                            SUMMARY\n",
       "0     documentary  Ancient stone structures have been discovered ...\n",
       "1          action  Squad with new characters with Courtney 357 fa...\n",
       "2          action  Mechanic Ashe Corven and his son Danny are bru...\n",
       "3          action  It's been one year since the \"Overachievers\" s...\n",
       "4     documentary  The Unplaceables is a feature length documenta...\n",
       "...           ...                                                ...\n",
       "3940       action  Sunil Shrivastava (Suniel Shetty), is the son ...\n",
       "3941       horror  Each week on her local cable show \"The Seance ...\n",
       "3942       horror  Two friends Johnny and Jack go out in the wood...\n",
       "3943       horror  A group of unlikely bunk mates gather at a mut...\n",
       "3944       action  In the wake of a shocking civilian massacre in...\n",
       "\n",
       "[3945 rows x 2 columns]"
      ]
     },
     "execution_count": 9,
     "metadata": {},
     "output_type": "execute_result"
    }
   ],
   "source": [
    "df_undersampled"
   ]
  },
  {
   "cell_type": "code",
   "execution_count": 10,
   "metadata": {},
   "outputs": [
    {
     "data": {
      "text/html": [
       "<div>\n",
       "<style scoped>\n",
       "    .dataframe tbody tr th:only-of-type {\n",
       "        vertical-align: middle;\n",
       "    }\n",
       "\n",
       "    .dataframe tbody tr th {\n",
       "        vertical-align: top;\n",
       "    }\n",
       "\n",
       "    .dataframe thead th {\n",
       "        text-align: right;\n",
       "    }\n",
       "</style>\n",
       "<table border=\"1\" class=\"dataframe\">\n",
       "  <thead>\n",
       "    <tr style=\"text-align: right;\">\n",
       "      <th></th>\n",
       "      <th>GENRE</th>\n",
       "      <th>SUMMARY</th>\n",
       "    </tr>\n",
       "  </thead>\n",
       "  <tbody>\n",
       "    <tr>\n",
       "      <th>0</th>\n",
       "      <td>documentary</td>\n",
       "      <td>ancient stone structures discovered america th...</td>\n",
       "    </tr>\n",
       "    <tr>\n",
       "      <th>1</th>\n",
       "      <td>action</td>\n",
       "      <td>squad new characters courtney 357 facing forme...</td>\n",
       "    </tr>\n",
       "    <tr>\n",
       "      <th>2</th>\n",
       "      <td>action</td>\n",
       "      <td>mechanic ashe corven son danny brutally murder...</td>\n",
       "    </tr>\n",
       "    <tr>\n",
       "      <th>3</th>\n",
       "      <td>action</td>\n",
       "      <td>'s one year since `` overachievers '' series r...</td>\n",
       "    </tr>\n",
       "    <tr>\n",
       "      <th>4</th>\n",
       "      <td>documentary</td>\n",
       "      <td>unplaceables feature length documentary need i...</td>\n",
       "    </tr>\n",
       "    <tr>\n",
       "      <th>...</th>\n",
       "      <td>...</td>\n",
       "      <td>...</td>\n",
       "    </tr>\n",
       "    <tr>\n",
       "      <th>3940</th>\n",
       "      <td>action</td>\n",
       "      <td>sunil shrivastava suniel shetty son freedom fi...</td>\n",
       "    </tr>\n",
       "    <tr>\n",
       "      <th>3941</th>\n",
       "      <td>horror</td>\n",
       "      <td>week local cable show `` seance hour '' medium...</td>\n",
       "    </tr>\n",
       "    <tr>\n",
       "      <th>3942</th>\n",
       "      <td>horror</td>\n",
       "      <td>two friends johnny jack go woods looking body ...</td>\n",
       "    </tr>\n",
       "    <tr>\n",
       "      <th>3943</th>\n",
       "      <td>horror</td>\n",
       "      <td>group unlikely bunk mates gather mutual friend...</td>\n",
       "    </tr>\n",
       "    <tr>\n",
       "      <th>3944</th>\n",
       "      <td>action</td>\n",
       "      <td>wake shocking civilian massacre foreign war zo...</td>\n",
       "    </tr>\n",
       "  </tbody>\n",
       "</table>\n",
       "<p>3945 rows × 2 columns</p>\n",
       "</div>"
      ],
      "text/plain": [
       "            GENRE                                            SUMMARY\n",
       "0     documentary  ancient stone structures discovered america th...\n",
       "1          action  squad new characters courtney 357 facing forme...\n",
       "2          action  mechanic ashe corven son danny brutally murder...\n",
       "3          action  's one year since `` overachievers '' series r...\n",
       "4     documentary  unplaceables feature length documentary need i...\n",
       "...           ...                                                ...\n",
       "3940       action  sunil shrivastava suniel shetty son freedom fi...\n",
       "3941       horror  week local cable show `` seance hour '' medium...\n",
       "3942       horror  two friends johnny jack go woods looking body ...\n",
       "3943       horror  group unlikely bunk mates gather mutual friend...\n",
       "3944       action  wake shocking civilian massacre foreign war zo...\n",
       "\n",
       "[3945 rows x 2 columns]"
      ]
     },
     "execution_count": 10,
     "metadata": {},
     "output_type": "execute_result"
    }
   ],
   "source": [
    "#Menghilangkan kata2 yang dirasa tidak diperlukan dan tanda baca\n",
    "\n",
    "stop_words = set(stopwords.words('english'))\n",
    "\n",
    "def remove_stopwords_punctuation(text):\n",
    "    tokens = word_tokenize(text)\n",
    "    filtered_tokens = [word.lower() for word in tokens if (word.lower() not in stop_words and word.lower() not in string.punctuation)]\n",
    "    return ' '.join(filtered_tokens)\n",
    "\n",
    "df_undersampled['SUMMARY'] = df_undersampled['SUMMARY'].apply(remove_stopwords_punctuation)\n",
    "\n",
    "df_undersampled"
   ]
  },
  {
   "cell_type": "code",
   "execution_count": 11,
   "metadata": {},
   "outputs": [],
   "source": [
    "category = pd.get_dummies(df_undersampled.GENRE, dtype=int)\n",
    "new_df = pd.concat([df_undersampled, category], axis=1)\n",
    "new_df = new_df.drop(columns='GENRE')"
   ]
  },
  {
   "cell_type": "code",
   "execution_count": 12,
   "metadata": {},
   "outputs": [
    {
     "data": {
      "text/html": [
       "<div>\n",
       "<style scoped>\n",
       "    .dataframe tbody tr th:only-of-type {\n",
       "        vertical-align: middle;\n",
       "    }\n",
       "\n",
       "    .dataframe tbody tr th {\n",
       "        vertical-align: top;\n",
       "    }\n",
       "\n",
       "    .dataframe thead th {\n",
       "        text-align: right;\n",
       "    }\n",
       "</style>\n",
       "<table border=\"1\" class=\"dataframe\">\n",
       "  <thead>\n",
       "    <tr style=\"text-align: right;\">\n",
       "      <th></th>\n",
       "      <th>SUMMARY</th>\n",
       "      <th>action</th>\n",
       "      <th>documentary</th>\n",
       "      <th>horror</th>\n",
       "    </tr>\n",
       "  </thead>\n",
       "  <tbody>\n",
       "    <tr>\n",
       "      <th>0</th>\n",
       "      <td>ancient stone structures discovered america th...</td>\n",
       "      <td>0</td>\n",
       "      <td>1</td>\n",
       "      <td>0</td>\n",
       "    </tr>\n",
       "    <tr>\n",
       "      <th>1</th>\n",
       "      <td>squad new characters courtney 357 facing forme...</td>\n",
       "      <td>1</td>\n",
       "      <td>0</td>\n",
       "      <td>0</td>\n",
       "    </tr>\n",
       "    <tr>\n",
       "      <th>2</th>\n",
       "      <td>mechanic ashe corven son danny brutally murder...</td>\n",
       "      <td>1</td>\n",
       "      <td>0</td>\n",
       "      <td>0</td>\n",
       "    </tr>\n",
       "    <tr>\n",
       "      <th>3</th>\n",
       "      <td>'s one year since `` overachievers '' series r...</td>\n",
       "      <td>1</td>\n",
       "      <td>0</td>\n",
       "      <td>0</td>\n",
       "    </tr>\n",
       "    <tr>\n",
       "      <th>4</th>\n",
       "      <td>unplaceables feature length documentary need i...</td>\n",
       "      <td>0</td>\n",
       "      <td>1</td>\n",
       "      <td>0</td>\n",
       "    </tr>\n",
       "    <tr>\n",
       "      <th>...</th>\n",
       "      <td>...</td>\n",
       "      <td>...</td>\n",
       "      <td>...</td>\n",
       "      <td>...</td>\n",
       "    </tr>\n",
       "    <tr>\n",
       "      <th>3940</th>\n",
       "      <td>sunil shrivastava suniel shetty son freedom fi...</td>\n",
       "      <td>1</td>\n",
       "      <td>0</td>\n",
       "      <td>0</td>\n",
       "    </tr>\n",
       "    <tr>\n",
       "      <th>3941</th>\n",
       "      <td>week local cable show `` seance hour '' medium...</td>\n",
       "      <td>0</td>\n",
       "      <td>0</td>\n",
       "      <td>1</td>\n",
       "    </tr>\n",
       "    <tr>\n",
       "      <th>3942</th>\n",
       "      <td>two friends johnny jack go woods looking body ...</td>\n",
       "      <td>0</td>\n",
       "      <td>0</td>\n",
       "      <td>1</td>\n",
       "    </tr>\n",
       "    <tr>\n",
       "      <th>3943</th>\n",
       "      <td>group unlikely bunk mates gather mutual friend...</td>\n",
       "      <td>0</td>\n",
       "      <td>0</td>\n",
       "      <td>1</td>\n",
       "    </tr>\n",
       "    <tr>\n",
       "      <th>3944</th>\n",
       "      <td>wake shocking civilian massacre foreign war zo...</td>\n",
       "      <td>1</td>\n",
       "      <td>0</td>\n",
       "      <td>0</td>\n",
       "    </tr>\n",
       "  </tbody>\n",
       "</table>\n",
       "<p>3945 rows × 4 columns</p>\n",
       "</div>"
      ],
      "text/plain": [
       "                                                SUMMARY  action  documentary  \\\n",
       "0     ancient stone structures discovered america th...       0            1   \n",
       "1     squad new characters courtney 357 facing forme...       1            0   \n",
       "2     mechanic ashe corven son danny brutally murder...       1            0   \n",
       "3     's one year since `` overachievers '' series r...       1            0   \n",
       "4     unplaceables feature length documentary need i...       0            1   \n",
       "...                                                 ...     ...          ...   \n",
       "3940  sunil shrivastava suniel shetty son freedom fi...       1            0   \n",
       "3941  week local cable show `` seance hour '' medium...       0            0   \n",
       "3942  two friends johnny jack go woods looking body ...       0            0   \n",
       "3943  group unlikely bunk mates gather mutual friend...       0            0   \n",
       "3944  wake shocking civilian massacre foreign war zo...       1            0   \n",
       "\n",
       "      horror  \n",
       "0          0  \n",
       "1          0  \n",
       "2          0  \n",
       "3          0  \n",
       "4          0  \n",
       "...      ...  \n",
       "3940       0  \n",
       "3941       1  \n",
       "3942       1  \n",
       "3943       1  \n",
       "3944       0  \n",
       "\n",
       "[3945 rows x 4 columns]"
      ]
     },
     "execution_count": 12,
     "metadata": {},
     "output_type": "execute_result"
    }
   ],
   "source": [
    "new_df"
   ]
  },
  {
   "cell_type": "code",
   "execution_count": 13,
   "metadata": {},
   "outputs": [],
   "source": [
    "summary = new_df['SUMMARY'].values\n",
    "y = new_df[['action','documentary','horror']].values"
   ]
  },
  {
   "cell_type": "code",
   "execution_count": 14,
   "metadata": {},
   "outputs": [
    {
     "name": "stdout",
     "output_type": "stream",
     "text": [
      "rataan: 427.6060836501901\n",
      "maks panjang: 5333\n",
      "min panjang: 64\n"
     ]
    },
    {
     "data": {
      "image/png": "[encoded data removed]",
      "text/plain": [
       "<Figure size 640x480 with 1 Axes>"
      ]
     },
     "metadata": {},
     "output_type": "display_data"
    }
   ],
   "source": [
    "#melihat statistik data akhir yang akan digunakan\n",
    "\n",
    "import matplotlib.pyplot as plt\n",
    "panjang=[]\n",
    "for i in summary:\n",
    "    panjang.append(len(i))\n",
    "\n",
    "print('rataan:', sum(panjang)/len(panjang))\n",
    "print('maks panjang:', max(panjang))\n",
    "print('min panjang:', min(panjang))\n",
    "\n",
    "plt.hist(x=panjang, bins=15)\n",
    "plt.show()"
   ]
  },
  {
   "cell_type": "code",
   "execution_count": 15,
   "metadata": {},
   "outputs": [
    {
     "name": "stdout",
     "output_type": "stream",
     "text": [
      "Rows with summaries having the maximum length:\n",
      "            GENRE                                            SUMMARY\n",
      "602        horror  old evil spirit horace granger old evil spirit...\n",
      "917   documentary  lawless america ... movie exposing fact live l...\n",
      "1439       horror  christine villier betrothed jacques despard me...\n",
      "2998       horror  june 5 1944 early morning hours opening invasi...\n"
     ]
    }
   ],
   "source": [
    "max_length = max(panjang)\n",
    "\n",
    "max_length_summaries = df_undersampled[df_undersampled['SUMMARY'].apply(lambda x: len(x)) >= 3000]\n",
    "\n",
    "print(\"Rows with summaries having the maximum length:\")\n",
    "print(max_length_summaries)"
   ]
  },
  {
   "cell_type": "code",
   "execution_count": 16,
   "metadata": {},
   "outputs": [],
   "source": [
    "from sklearn.model_selection import train_test_split\n",
    "summary_latih, summary_test, y_latih, y_test = train_test_split(summary, y, test_size=0.2)"
   ]
  },
  {
   "cell_type": "code",
   "execution_count": 17,
   "metadata": {},
   "outputs": [
    {
     "data": {
      "text/plain": [
       "array([[0, 1, 0],\n",
       "       [1, 0, 0],\n",
       "       [0, 0, 1],\n",
       "       ...,\n",
       "       [0, 0, 1],\n",
       "       [0, 1, 0],\n",
       "       [1, 0, 0]])"
      ]
     },
     "execution_count": 17,
     "metadata": {},
     "output_type": "execute_result"
    }
   ],
   "source": [
    "y_test"
   ]
  },
  {
   "cell_type": "code",
   "execution_count": 18,
   "metadata": {},
   "outputs": [],
   "source": [
    "tokenizer = Tokenizer(num_words=10000, oov_token='x')\n",
    "tokenizer.fit_on_texts(summary_latih) \n",
    " \n",
    "sekuens_latih = tokenizer.texts_to_sequences(summary_latih)\n",
    "sekuens_test = tokenizer.texts_to_sequences(summary_test)\n",
    "\n",
    "padded_latih = pad_sequences(sekuens_latih, maxlen=300, padding='post', truncating='post')\n",
    "padded_test = pad_sequences(sekuens_test, maxlen=300, padding='post', truncating='post')"
   ]
  },
  {
   "cell_type": "code",
   "execution_count": 27,
   "metadata": {},
   "outputs": [],
   "source": [
    "import tensorflow as tf\n",
    "\n",
    "model = Sequential([\n",
    "    tf.keras.layers.Embedding(input_dim=10000, output_dim=15, input_length=300), #Embedding\n",
    "    tf.keras.layers.Bidirectional(tf.keras.layers.LSTM(24,dropout=0.8, recurrent_dropout=0.8)), #LSTM\n",
    "    tf.keras.layers.Dense(3, activation='softmax')\n",
    "])\n",
    "\n",
    "\n",
    "model.compile(loss='categorical_crossentropy', optimizer='rmsprop', metrics=['accuracy'])"
   ]
  },
  {
   "cell_type": "code",
   "execution_count": 28,
   "metadata": {},
   "outputs": [],
   "source": [
    "from keras.callbacks import Callback\n",
    "\n",
    "class StopTrainingCallback(Callback):\n",
    "    def __init__(self, threshold=0.9):\n",
    "        super(StopTrainingCallback, self).__init__()\n",
    "        self.threshold = threshold\n",
    "\n",
    "    def on_epoch_end(self, epoch, logs=None):\n",
    "        if logs.get('val_accuracy') >= self.threshold:\n",
    "            print(f\"\\nAkurasi validasi menyentuh {self.threshold*100:.2f}%.\")\n",
    "            self.model.stop_training = True"
   ]
  },
  {
   "cell_type": "code",
   "execution_count": 29,
   "metadata": {},
   "outputs": [
    {
     "name": "stdout",
     "output_type": "stream",
     "text": [
      "Epoch 1/400\n",
      "25/25 - 12s - loss: 1.0999 - accuracy: 0.3050 - val_loss: 1.0975 - val_accuracy: 0.3875 - 12s/epoch - 497ms/step\n",
      "Epoch 2/400\n",
      "25/25 - 7s - loss: 1.0987 - accuracy: 0.3113 - val_loss: 1.0984 - val_accuracy: 0.3250 - 7s/epoch - 299ms/step\n",
      "Epoch 3/400\n",
      "25/25 - 7s - loss: 1.0985 - accuracy: 0.3400 - val_loss: 1.0991 - val_accuracy: 0.3250 - 7s/epoch - 290ms/step\n",
      "Epoch 4/400\n",
      "25/25 - 7s - loss: 1.0981 - accuracy: 0.3325 - val_loss: 1.0970 - val_accuracy: 0.4000 - 7s/epoch - 263ms/step\n",
      "Epoch 5/400\n",
      "25/25 - 7s - loss: 1.0951 - accuracy: 0.3600 - val_loss: 1.0940 - val_accuracy: 0.4250 - 7s/epoch - 261ms/step\n",
      "Epoch 6/400\n",
      "25/25 - 7s - loss: 1.0943 - accuracy: 0.3787 - val_loss: 1.0943 - val_accuracy: 0.4062 - 7s/epoch - 261ms/step\n",
      "Epoch 7/400\n",
      "25/25 - 7s - loss: 1.0900 - accuracy: 0.4150 - val_loss: 1.0848 - val_accuracy: 0.5312 - 7s/epoch - 263ms/step\n",
      "Epoch 8/400\n",
      "25/25 - 6s - loss: 1.0674 - accuracy: 0.4797 - val_loss: 1.0330 - val_accuracy: 0.4875 - 6s/epoch - 260ms/step\n",
      "Epoch 9/400\n",
      "25/25 - 7s - loss: 1.0319 - accuracy: 0.5125 - val_loss: 0.9762 - val_accuracy: 0.5250 - 7s/epoch - 264ms/step\n",
      "Epoch 10/400\n",
      "25/25 - 7s - loss: 1.0112 - accuracy: 0.4913 - val_loss: 0.9556 - val_accuracy: 0.4875 - 7s/epoch - 274ms/step\n",
      "Epoch 11/400\n",
      "25/25 - 7s - loss: 0.9617 - accuracy: 0.5200 - val_loss: 0.9051 - val_accuracy: 0.6062 - 7s/epoch - 261ms/step\n",
      "Epoch 12/400\n",
      "25/25 - 7s - loss: 0.9420 - accuracy: 0.5647 - val_loss: 0.9482 - val_accuracy: 0.4688 - 7s/epoch - 299ms/step\n",
      "Epoch 13/400\n",
      "25/25 - 6s - loss: 0.8927 - accuracy: 0.5700 - val_loss: 0.8502 - val_accuracy: 0.5250 - 6s/epoch - 258ms/step\n",
      "Epoch 14/400\n",
      "25/25 - 7s - loss: 0.8425 - accuracy: 0.6012 - val_loss: 0.8085 - val_accuracy: 0.6375 - 7s/epoch - 299ms/step\n",
      "Epoch 15/400\n",
      "25/25 - 8s - loss: 0.7975 - accuracy: 0.6125 - val_loss: 0.8135 - val_accuracy: 0.6313 - 8s/epoch - 308ms/step\n",
      "Epoch 16/400\n",
      "25/25 - 8s - loss: 0.8213 - accuracy: 0.6193 - val_loss: 0.7472 - val_accuracy: 0.6375 - 8s/epoch - 303ms/step\n",
      "Epoch 17/400\n",
      "25/25 - 8s - loss: 0.7674 - accuracy: 0.6450 - val_loss: 0.7332 - val_accuracy: 0.6187 - 8s/epoch - 306ms/step\n",
      "Epoch 18/400\n",
      "25/25 - 8s - loss: 0.7599 - accuracy: 0.6250 - val_loss: 2.7380 - val_accuracy: 0.3875 - 8s/epoch - 308ms/step\n",
      "Epoch 19/400\n",
      "25/25 - 7s - loss: 0.7523 - accuracy: 0.6650 - val_loss: 0.7229 - val_accuracy: 0.6438 - 7s/epoch - 275ms/step\n",
      "Epoch 20/400\n",
      "25/25 - 6s - loss: 0.7519 - accuracy: 0.6294 - val_loss: 0.6903 - val_accuracy: 0.6313 - 6s/epoch - 259ms/step\n",
      "Epoch 21/400\n",
      "25/25 - 6s - loss: 0.6874 - accuracy: 0.6775 - val_loss: 0.6440 - val_accuracy: 0.7000 - 6s/epoch - 257ms/step\n",
      "Epoch 22/400\n",
      "25/25 - 7s - loss: 0.7651 - accuracy: 0.6488 - val_loss: 0.6105 - val_accuracy: 0.7375 - 7s/epoch - 266ms/step\n",
      "Epoch 23/400\n",
      "25/25 - 6s - loss: 0.6785 - accuracy: 0.7063 - val_loss: 0.5905 - val_accuracy: 0.7312 - 6s/epoch - 260ms/step\n",
      "Epoch 24/400\n",
      "25/25 - 7s - loss: 0.6571 - accuracy: 0.7157 - val_loss: 0.5946 - val_accuracy: 0.7437 - 7s/epoch - 262ms/step\n",
      "Epoch 25/400\n",
      "25/25 - 7s - loss: 0.6451 - accuracy: 0.7038 - val_loss: 0.5895 - val_accuracy: 0.7625 - 7s/epoch - 263ms/step\n",
      "Epoch 26/400\n",
      "25/25 - 7s - loss: 0.6669 - accuracy: 0.6988 - val_loss: 0.5725 - val_accuracy: 0.7812 - 7s/epoch - 260ms/step\n",
      "Epoch 27/400\n",
      "25/25 - 7s - loss: 0.6563 - accuracy: 0.7063 - val_loss: 0.5664 - val_accuracy: 0.7750 - 7s/epoch - 264ms/step\n",
      "Epoch 28/400\n",
      "25/25 - 6s - loss: 0.6256 - accuracy: 0.7107 - val_loss: 0.5568 - val_accuracy: 0.7875 - 6s/epoch - 256ms/step\n",
      "Epoch 29/400\n",
      "25/25 - 7s - loss: 0.6209 - accuracy: 0.7350 - val_loss: 0.5518 - val_accuracy: 0.8125 - 7s/epoch - 267ms/step\n",
      "Epoch 30/400\n",
      "25/25 - 6s - loss: 0.5758 - accuracy: 0.7713 - val_loss: 0.5585 - val_accuracy: 0.7563 - 6s/epoch - 258ms/step\n",
      "Epoch 31/400\n",
      "25/25 - 6s - loss: 0.5860 - accuracy: 0.7663 - val_loss: 0.4823 - val_accuracy: 0.8375 - 6s/epoch - 256ms/step\n",
      "Epoch 32/400\n",
      "25/25 - 7s - loss: 0.5485 - accuracy: 0.7881 - val_loss: 0.4640 - val_accuracy: 0.8438 - 7s/epoch - 261ms/step\n",
      "Epoch 33/400\n",
      "25/25 - 6s - loss: 0.4967 - accuracy: 0.8000 - val_loss: 0.5431 - val_accuracy: 0.7563 - 6s/epoch - 260ms/step\n",
      "Epoch 34/400\n",
      "25/25 - 7s - loss: 0.5105 - accuracy: 0.7875 - val_loss: 0.4207 - val_accuracy: 0.8250 - 7s/epoch - 262ms/step\n",
      "Epoch 35/400\n",
      "25/25 - 6s - loss: 0.5184 - accuracy: 0.7875 - val_loss: 0.4036 - val_accuracy: 0.8625 - 6s/epoch - 260ms/step\n",
      "Epoch 36/400\n",
      "25/25 - 7s - loss: 0.4557 - accuracy: 0.8249 - val_loss: 0.3826 - val_accuracy: 0.8500 - 7s/epoch - 262ms/step\n",
      "Epoch 37/400\n",
      "25/25 - 7s - loss: 0.4475 - accuracy: 0.8313 - val_loss: 0.4161 - val_accuracy: 0.8750 - 7s/epoch - 275ms/step\n",
      "Epoch 38/400\n",
      "25/25 - 7s - loss: 0.4504 - accuracy: 0.8313 - val_loss: 0.3451 - val_accuracy: 0.9000 - 7s/epoch - 296ms/step\n",
      "Epoch 39/400\n",
      "25/25 - 8s - loss: 0.4372 - accuracy: 0.8238 - val_loss: 0.3607 - val_accuracy: 0.8687 - 8s/epoch - 308ms/step\n",
      "Epoch 40/400\n",
      "25/25 - 7s - loss: 0.4144 - accuracy: 0.8515 - val_loss: 0.4623 - val_accuracy: 0.8000 - 7s/epoch - 269ms/step\n",
      "Epoch 41/400\n",
      "25/25 - 7s - loss: 0.3709 - accuracy: 0.8700 - val_loss: 0.3696 - val_accuracy: 0.8938 - 7s/epoch - 295ms/step\n",
      "Epoch 42/400\n",
      "25/25 - 7s - loss: 0.4230 - accuracy: 0.8637 - val_loss: 0.3711 - val_accuracy: 0.8813 - 7s/epoch - 287ms/step\n",
      "Epoch 43/400\n",
      "25/25 - 7s - loss: 0.4477 - accuracy: 0.8438 - val_loss: 0.3911 - val_accuracy: 0.8250 - 7s/epoch - 286ms/step\n",
      "Epoch 44/400\n",
      "25/25 - 7s - loss: 0.3303 - accuracy: 0.8731 - val_loss: 0.3375 - val_accuracy: 0.9062 - 7s/epoch - 299ms/step\n",
      "Epoch 45/400\n",
      "25/25 - 8s - loss: 0.3662 - accuracy: 0.8800 - val_loss: 0.3297 - val_accuracy: 0.9062 - 8s/epoch - 301ms/step\n",
      "Epoch 46/400\n",
      "25/25 - 7s - loss: 0.3190 - accuracy: 0.8988 - val_loss: 0.3066 - val_accuracy: 0.9000 - 7s/epoch - 276ms/step\n",
      "Epoch 47/400\n",
      "25/25 - 7s - loss: 0.3246 - accuracy: 0.9038 - val_loss: 0.2876 - val_accuracy: 0.9000 - 7s/epoch - 262ms/step\n",
      "Epoch 48/400\n",
      "25/25 - 7s - loss: 0.3118 - accuracy: 0.8909 - val_loss: 0.2955 - val_accuracy: 0.9000 - 7s/epoch - 274ms/step\n",
      "Epoch 49/400\n",
      "25/25 - 6s - loss: 0.3134 - accuracy: 0.8712 - val_loss: 0.3209 - val_accuracy: 0.8875 - 6s/epoch - 258ms/step\n",
      "Epoch 50/400\n",
      "25/25 - 7s - loss: 0.3318 - accuracy: 0.9000 - val_loss: 0.3825 - val_accuracy: 0.9062 - 7s/epoch - 281ms/step\n",
      "Epoch 51/400\n",
      "\n",
      "Akurasi validasi menyentuh 91.00%.\n",
      "25/25 - 7s - loss: 0.2727 - accuracy: 0.9112 - val_loss: 0.3013 - val_accuracy: 0.9187 - 7s/epoch - 262ms/step\n"
     ]
    }
   ],
   "source": [
    "stop_callback = StopTrainingCallback(threshold=0.91)\n",
    "\n",
    "history = model.fit(padded_latih, y_latih, epochs=400,\n",
    "                    validation_data=(padded_test, y_test),\n",
    "                    batch_size=32,\n",
    "                    steps_per_epoch=25,\n",
    "                    validation_steps=5,\n",
    "                    callbacks= [stop_callback],\n",
    "                    verbose=2)"
   ]
  },
  {
   "cell_type": "markdown",
   "metadata": {},
   "source": [
    "akurasi telah lebih dari 90% -> 0.9187"
   ]
  },
  {
   "cell_type": "code",
   "execution_count": 30,
   "metadata": {},
   "outputs": [
    {
     "data": {
      "image/png": "[encoded data removed]",
      "text/plain": [
       "<Figure size 640x480 with 1 Axes>"
      ]
     },
     "metadata": {},
     "output_type": "display_data"
    }
   ],
   "source": [
    "import matplotlib.pyplot as plt\n",
    "plt.plot(history.history['accuracy'])\n",
    "plt.plot(history.history['val_accuracy'])\n",
    "plt.title('Plot Akurasi')\n",
    "plt.ylabel('Akurasi')\n",
    "plt.xlabel('Epoch')\n",
    "plt.legend(['train', 'test'], loc='upper right')\n",
    "plt.show()"
   ]
  },
  {
   "cell_type": "code",
   "execution_count": 31,
   "metadata": {},
   "outputs": [
    {
     "data": {
      "image/png": "[encoded data removed]",
      "text/plain": [
       "<Figure size 640x480 with 1 Axes>"
      ]
     },
     "metadata": {},
     "output_type": "display_data"
    }
   ],
   "source": [
    "plt.plot(history.history['loss'])\n",
    "plt.plot(history.history['val_loss'])\n",
    "plt.title('Plot loss')\n",
    "plt.ylabel('Loss')\n",
    "plt.xlabel('Epoch')\n",
    "plt.legend(['train', 'test'], loc='upper right')\n",
    "plt.show()"
   ]
  }
 ],
 "metadata": {
  "kernelspec": {
   "display_name": "Python 3",
   "language": "python",
   "name": "python3"
  },
  "language_info": {
   "codemirror_mode": {
    "name": "ipython",
    "version": 3
   },
   "file_extension": ".py",
   "mimetype": "text/x-python",
   "name": "python",
   "nbconvert_exporter": "python",
   "pygments_lexer": "ipython3",
   "version": "3.11.7"
  }
 },
 "nbformat": 4,
 "nbformat_minor": 2
}
